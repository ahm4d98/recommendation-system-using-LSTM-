{
 "cells": [
  {
   "cell_type": "code",
   "execution_count": 1,
   "metadata": {
    "execution": {
     "iopub.execute_input": "2022-04-04T19:08:46.366155Z",
     "iopub.status.busy": "2022-04-04T19:08:46.365599Z",
     "iopub.status.idle": "2022-04-04T19:08:51.406795Z",
     "shell.execute_reply": "2022-04-04T19:08:51.406054Z",
     "shell.execute_reply.started": "2022-04-04T19:08:46.366061Z"
    }
   },
   "outputs": [],
   "source": [
    "import tensorflow as tf\n",
    "from tensorflow.keras.preprocessing.text import Tokenizer\n",
    "from tensorflow.keras.preprocessing.sequence import pad_sequences\n",
    "import numpy as np  \n",
    "import pandas as pd\n",
    "from keras.models import Sequential  \n",
    "from tensorflow.keras.layers import Embedding\n",
    "import numpy as np\n",
    "from keras.models import Model\n",
    "from keras.layers import Concatenate\n",
    "from keras.layers import Dense, concatenate, Input\n",
    "from keras.layers import LSTM\n",
    "from keras.utils import np_utils\n",
    "from tensorflow.keras.utils import to_categorical\n",
    "import statistics\n",
    "import tensorflow as tf\n"
   ]
  },
  {
   "cell_type": "markdown",
   "metadata": {},
   "source": [
    "### calculate precision between two lists"
   ]
  },
  {
   "cell_type": "code",
   "execution_count": 2,
   "metadata": {
    "execution": {
     "iopub.execute_input": "2022-04-04T19:08:51.408596Z",
     "iopub.status.busy": "2022-04-04T19:08:51.408347Z",
     "iopub.status.idle": "2022-04-04T19:08:51.414041Z",
     "shell.execute_reply": "2022-04-04T19:08:51.413171Z",
     "shell.execute_reply.started": "2022-04-04T19:08:51.408562Z"
    }
   },
   "outputs": [],
   "source": [
    "def precision(actual, predicted, k):\n",
    "    act_set = set(actual)\n",
    "    pred_set = set(predicted[:k])\n",
    "    result = len(pred_set.intersection(actual)) / float(k)\n",
    "    return result"
   ]
  },
  {
   "cell_type": "code",
   "execution_count": 3,
   "metadata": {
    "execution": {
     "iopub.execute_input": "2022-04-04T19:08:51.415511Z",
     "iopub.status.busy": "2022-04-04T19:08:51.41522Z",
     "iopub.status.idle": "2022-04-04T19:08:51.424833Z",
     "shell.execute_reply": "2022-04-04T19:08:51.424022Z",
     "shell.execute_reply.started": "2022-04-04T19:08:51.415435Z"
    }
   },
   "outputs": [],
   "source": [
    "def mapk(actual, predicted):\n",
    "    \"\"\"\n",
    "    Computes the mean average precision at k.\n",
    "    This function computes the mean average prescision at k between two lists\n",
    "    of lists of items.\n",
    "    Parameters\n",
    "    ----------\n",
    "    actual : list\n",
    "             A list of lists of elements that are to be predicted \n",
    "             (order doesn't matter in the lists)\n",
    "    predicted : list\n",
    "                A list of lists of predicted elements\n",
    "                (order matters in the lists)\n",
    "    k : int, optional\n",
    "        The maximum number of predicted elements\n",
    "    Returns\n",
    "    -------\n",
    "    score : double\n",
    "            The mean average precision at k over the input lists\n",
    "            \n",
    "    \"\"\"\n",
    "\n",
    "        \n",
    "    return np.mean([precision(a,np.argmax(p,axis=-1),5) for a,p in zip(actual, predicted)])"
   ]
  },
  {
   "cell_type": "code",
   "execution_count": 4,
   "metadata": {
    "execution": {
     "iopub.execute_input": "2022-04-04T19:08:51.427119Z",
     "iopub.status.busy": "2022-04-04T19:08:51.426803Z",
     "iopub.status.idle": "2022-04-04T19:08:51.434125Z",
     "shell.execute_reply": "2022-04-04T19:08:51.433357Z",
     "shell.execute_reply.started": "2022-04-04T19:08:51.427085Z"
    }
   },
   "outputs": [],
   "source": [
    "\n",
    "def create_train_tfdata(train_feat_dict, train_target_tensor,\n",
    "                        batch_size, buffer_size=None):\n",
    "    \"\"\"\n",
    "    Create train tf dataset for model train input\n",
    "    :param train_feat_dict: dict, containing the features tensors for train data\n",
    "    :param train_target_tensor: np.array(), the training TARGET tensor\n",
    "    :param batch_size: (int) size of the batch to work with\n",
    "    :param buffer_size: (int) Optional. Default is None. Size of the buffer\n",
    "    :return: (tuple) 1st element is the training dataset,\n",
    "                     2nd is the number of steps per epoch (based on batch size)\n",
    "    \"\"\"\n",
    "    if buffer_size is None:\n",
    "        buffer_size = batch_size*50\n",
    "\n",
    "    train_steps_per_epoch = len(train_target_tensor) // batch_size\n",
    "\n",
    "    train_dataset = tf.data.Dataset.from_tensor_slices((train_feat_dict,train_target_tensor)).cache()\n",
    "    train_dataset = train_dataset.shuffle(buffer_size).batch(batch_size)\n",
    "    train_dataset = train_dataset.repeat().prefetch(tf.data.experimental.AUTOTUNE)\n",
    "    \n",
    "    return train_dataset, train_steps_per_epoch\n"
   ]
  },
  {
   "cell_type": "markdown",
   "metadata": {},
   "source": [
    "### defining model"
   ]
  },
  {
   "cell_type": "code",
   "execution_count": 5,
   "metadata": {
    "execution": {
     "iopub.execute_input": "2022-04-04T19:08:51.435824Z",
     "iopub.status.busy": "2022-04-04T19:08:51.435379Z",
     "iopub.status.idle": "2022-04-04T19:08:51.446377Z",
     "shell.execute_reply": "2022-04-04T19:08:51.44563Z",
     "shell.execute_reply.started": "2022-04-04T19:08:51.435789Z"
    }
   },
   "outputs": [],
   "source": [
    "def model(views_lenght,items_lenght,seq_lenght):\n",
    "    #model=Sequential()\n",
    "    #max lenght of sequence \n",
    "    inp1=Input(shape=(seq_lenght,),dtype=tf.int32,name='itemid')\n",
    "    #the input dimensions of items is the tokenizer lenght\n",
    "    embedding_layer1 = Embedding(input_dim=items_lenght, output_dim=100)(inp1)\n",
    "    inp2=Input(shape=(seq_lenght,),dtype=tf.int32,name='views')\n",
    "    # and number of unique views different views values\n",
    "    embedding_layer2 = Embedding(input_dim=views_lenght, output_dim=100)(inp2)\n",
    "    # concating layers for one input to lstm\n",
    "    concat_embedding_input = tf.keras.layers.Concatenate(name='concat_embedding_input')([embedding_layer1, embedding_layer2])\n",
    "    \n",
    "    rnn =LSTM(100,return_sequences=True)(concat_embedding_input)\n",
    "    output = Dense(items_lenght, activation='softmax')(rnn)\n",
    "\n",
    "    opt = tf.keras.optimizers.RMSprop(learning_rate=0.05)\n",
    "\n",
    "    model = Model(inputs=[inp1, inp2], outputs=output)\n",
    "    model.compile(optimizer=opt,loss='sparse_categorical_crossentropy')\n",
    "    return model"
   ]
  },
  {
   "cell_type": "markdown",
   "metadata": {},
   "source": [
    "### loading dataset"
   ]
  },
  {
   "cell_type": "code",
   "execution_count": 6,
   "metadata": {
    "execution": {
     "iopub.execute_input": "2022-04-04T19:08:51.44879Z",
     "iopub.status.busy": "2022-04-04T19:08:51.448249Z",
     "iopub.status.idle": "2022-04-04T19:08:52.679809Z",
     "shell.execute_reply": "2022-04-04T19:08:52.67898Z",
     "shell.execute_reply.started": "2022-04-04T19:08:51.448754Z"
    }
   },
   "outputs": [],
   "source": [
    "items=pd.read_csv(r'C:/Users/ahmed hatem/Downloads/archive (4)/item_recommendation.csv')"
   ]
  },
  {
   "cell_type": "code",
   "execution_count": 7,
   "metadata": {
    "execution": {
     "iopub.execute_input": "2022-04-04T19:08:52.686117Z",
     "iopub.status.busy": "2022-04-04T19:08:52.684332Z",
     "iopub.status.idle": "2022-04-04T19:08:52.722011Z",
     "shell.execute_reply": "2022-04-04T19:08:52.721232Z",
     "shell.execute_reply.started": "2022-04-04T19:08:52.68607Z"
    }
   },
   "outputs": [],
   "source": [
    "items=items.drop(['Unnamed: 0'],axis=1)"
   ]
  },
  {
   "cell_type": "code",
   "execution_count": 8,
   "metadata": {
    "execution": {
     "iopub.execute_input": "2022-04-04T19:08:52.72377Z",
     "iopub.status.busy": "2022-04-04T19:08:52.723306Z",
     "iopub.status.idle": "2022-04-04T19:08:52.743459Z",
     "shell.execute_reply": "2022-04-04T19:08:52.742709Z",
     "shell.execute_reply.started": "2022-04-04T19:08:52.723729Z"
    }
   },
   "outputs": [
    {
     "data": {
      "text/html": [
       "<div>\n",
       "<style scoped>\n",
       "    .dataframe tbody tr th:only-of-type {\n",
       "        vertical-align: middle;\n",
       "    }\n",
       "\n",
       "    .dataframe tbody tr th {\n",
       "        vertical-align: top;\n",
       "    }\n",
       "\n",
       "    .dataframe thead th {\n",
       "        text-align: right;\n",
       "    }\n",
       "</style>\n",
       "<table border=\"1\" class=\"dataframe\">\n",
       "  <thead>\n",
       "    <tr style=\"text-align: right;\">\n",
       "      <th></th>\n",
       "      <th>visitorid</th>\n",
       "      <th>itemid</th>\n",
       "      <th>number of views</th>\n",
       "    </tr>\n",
       "  </thead>\n",
       "  <tbody>\n",
       "    <tr>\n",
       "      <th>0</th>\n",
       "      <td>0</td>\n",
       "      <td>67045</td>\n",
       "      <td>1</td>\n",
       "    </tr>\n",
       "    <tr>\n",
       "      <th>1</th>\n",
       "      <td>0</td>\n",
       "      <td>285930</td>\n",
       "      <td>1</td>\n",
       "    </tr>\n",
       "    <tr>\n",
       "      <th>2</th>\n",
       "      <td>0</td>\n",
       "      <td>357564</td>\n",
       "      <td>1</td>\n",
       "    </tr>\n",
       "    <tr>\n",
       "      <th>3</th>\n",
       "      <td>1</td>\n",
       "      <td>72028</td>\n",
       "      <td>1</td>\n",
       "    </tr>\n",
       "    <tr>\n",
       "      <th>4</th>\n",
       "      <td>2</td>\n",
       "      <td>216305</td>\n",
       "      <td>2</td>\n",
       "    </tr>\n",
       "    <tr>\n",
       "      <th>...</th>\n",
       "      <td>...</td>\n",
       "      <td>...</td>\n",
       "      <td>...</td>\n",
       "    </tr>\n",
       "    <tr>\n",
       "      <th>2132122</th>\n",
       "      <td>1407575</td>\n",
       "      <td>121220</td>\n",
       "      <td>1</td>\n",
       "    </tr>\n",
       "    <tr>\n",
       "      <th>2132123</th>\n",
       "      <td>1407576</td>\n",
       "      <td>356208</td>\n",
       "      <td>1</td>\n",
       "    </tr>\n",
       "    <tr>\n",
       "      <th>2132124</th>\n",
       "      <td>1407577</td>\n",
       "      <td>427784</td>\n",
       "      <td>1</td>\n",
       "    </tr>\n",
       "    <tr>\n",
       "      <th>2132125</th>\n",
       "      <td>1407578</td>\n",
       "      <td>188736</td>\n",
       "      <td>1</td>\n",
       "    </tr>\n",
       "    <tr>\n",
       "      <th>2132126</th>\n",
       "      <td>1407579</td>\n",
       "      <td>2521</td>\n",
       "      <td>1</td>\n",
       "    </tr>\n",
       "  </tbody>\n",
       "</table>\n",
       "<p>2132127 rows × 3 columns</p>\n",
       "</div>"
      ],
      "text/plain": [
       "         visitorid  itemid  number of views\n",
       "0                0   67045                1\n",
       "1                0  285930                1\n",
       "2                0  357564                1\n",
       "3                1   72028                1\n",
       "4                2  216305                2\n",
       "...            ...     ...              ...\n",
       "2132122    1407575  121220                1\n",
       "2132123    1407576  356208                1\n",
       "2132124    1407577  427784                1\n",
       "2132125    1407578  188736                1\n",
       "2132126    1407579    2521                1\n",
       "\n",
       "[2132127 rows x 3 columns]"
      ]
     },
     "execution_count": 8,
     "metadata": {},
     "output_type": "execute_result"
    }
   ],
   "source": [
    "items"
   ]
  },
  {
   "cell_type": "markdown",
   "metadata": {},
   "source": [
    "### changing the data type into strings to be grouped"
   ]
  },
  {
   "cell_type": "code",
   "execution_count": 9,
   "metadata": {
    "execution": {
     "iopub.execute_input": "2022-04-04T19:08:52.745209Z",
     "iopub.status.busy": "2022-04-04T19:08:52.744857Z",
     "iopub.status.idle": "2022-04-04T19:08:59.370947Z",
     "shell.execute_reply": "2022-04-04T19:08:59.370087Z",
     "shell.execute_reply.started": "2022-04-04T19:08:52.745176Z"
    }
   },
   "outputs": [],
   "source": [
    "items=items.astype(str)"
   ]
  },
  {
   "cell_type": "code",
   "execution_count": 10,
   "metadata": {
    "execution": {
     "iopub.execute_input": "2022-04-04T19:08:59.374589Z",
     "iopub.status.busy": "2022-04-04T19:08:59.374135Z",
     "iopub.status.idle": "2022-04-04T19:09:24.80133Z",
     "shell.execute_reply": "2022-04-04T19:09:24.800586Z",
     "shell.execute_reply.started": "2022-04-04T19:08:59.374548Z"
    }
   },
   "outputs": [],
   "source": [
    "itemid_grouped=items.groupby('visitorid')['itemid'].apply(','.join).reset_index()"
   ]
  },
  {
   "cell_type": "code",
   "execution_count": 11,
   "metadata": {
    "execution": {
     "iopub.execute_input": "2022-04-04T19:09:24.803069Z",
     "iopub.status.busy": "2022-04-04T19:09:24.802834Z",
     "iopub.status.idle": "2022-04-04T19:09:50.820625Z",
     "shell.execute_reply": "2022-04-04T19:09:50.819917Z",
     "shell.execute_reply.started": "2022-04-04T19:09:24.803037Z"
    }
   },
   "outputs": [],
   "source": [
    "views_grouped=items.groupby('visitorid')['number of views'].apply(','.join).reset_index()"
   ]
  },
  {
   "cell_type": "code",
   "execution_count": 12,
   "metadata": {
    "execution": {
     "iopub.execute_input": "2022-04-04T19:09:50.82208Z",
     "iopub.status.busy": "2022-04-04T19:09:50.821821Z",
     "iopub.status.idle": "2022-04-04T19:09:52.192302Z",
     "shell.execute_reply": "2022-04-04T19:09:52.19157Z",
     "shell.execute_reply.started": "2022-04-04T19:09:50.822047Z"
    }
   },
   "outputs": [],
   "source": [
    "itemandviews_grouped=pd.merge(itemid_grouped,views_grouped,on='visitorid')"
   ]
  },
  {
   "cell_type": "markdown",
   "metadata": {},
   "source": [
    "### the data contains the visitor id and all items viewed and the number of views of each item for that visitor"
   ]
  },
  {
   "cell_type": "code",
   "execution_count": 13,
   "metadata": {
    "execution": {
     "iopub.execute_input": "2022-04-04T19:09:52.193677Z",
     "iopub.status.busy": "2022-04-04T19:09:52.193414Z",
     "iopub.status.idle": "2022-04-04T19:09:52.208469Z",
     "shell.execute_reply": "2022-04-04T19:09:52.207492Z",
     "shell.execute_reply.started": "2022-04-04T19:09:52.193628Z"
    }
   },
   "outputs": [
    {
     "data": {
      "text/html": [
       "<div>\n",
       "<style scoped>\n",
       "    .dataframe tbody tr th:only-of-type {\n",
       "        vertical-align: middle;\n",
       "    }\n",
       "\n",
       "    .dataframe tbody tr th {\n",
       "        vertical-align: top;\n",
       "    }\n",
       "\n",
       "    .dataframe thead th {\n",
       "        text-align: right;\n",
       "    }\n",
       "</style>\n",
       "<table border=\"1\" class=\"dataframe\">\n",
       "  <thead>\n",
       "    <tr style=\"text-align: right;\">\n",
       "      <th></th>\n",
       "      <th>visitorid</th>\n",
       "      <th>itemid</th>\n",
       "      <th>number of views</th>\n",
       "    </tr>\n",
       "  </thead>\n",
       "  <tbody>\n",
       "    <tr>\n",
       "      <th>0</th>\n",
       "      <td>0</td>\n",
       "      <td>67045,285930,357564</td>\n",
       "      <td>1,1,1</td>\n",
       "    </tr>\n",
       "    <tr>\n",
       "      <th>1</th>\n",
       "      <td>1</td>\n",
       "      <td>72028</td>\n",
       "      <td>1</td>\n",
       "    </tr>\n",
       "    <tr>\n",
       "      <th>2</th>\n",
       "      <td>10</td>\n",
       "      <td>248766</td>\n",
       "      <td>1</td>\n",
       "    </tr>\n",
       "    <tr>\n",
       "      <th>3</th>\n",
       "      <td>100</td>\n",
       "      <td>36054</td>\n",
       "      <td>4</td>\n",
       "    </tr>\n",
       "    <tr>\n",
       "      <th>4</th>\n",
       "      <td>1000</td>\n",
       "      <td>248975</td>\n",
       "      <td>1</td>\n",
       "    </tr>\n",
       "    <tr>\n",
       "      <th>...</th>\n",
       "      <td>...</td>\n",
       "      <td>...</td>\n",
       "      <td>...</td>\n",
       "    </tr>\n",
       "    <tr>\n",
       "      <th>1404174</th>\n",
       "      <td>999995</td>\n",
       "      <td>109661</td>\n",
       "      <td>1</td>\n",
       "    </tr>\n",
       "    <tr>\n",
       "      <th>1404175</th>\n",
       "      <td>999996</td>\n",
       "      <td>28219,51259,182000,371008</td>\n",
       "      <td>1,2,2,1</td>\n",
       "    </tr>\n",
       "    <tr>\n",
       "      <th>1404176</th>\n",
       "      <td>999997</td>\n",
       "      <td>196715</td>\n",
       "      <td>1</td>\n",
       "    </tr>\n",
       "    <tr>\n",
       "      <th>1404177</th>\n",
       "      <td>999998</td>\n",
       "      <td>185989,226373,340010,455860</td>\n",
       "      <td>1,2,1,1</td>\n",
       "    </tr>\n",
       "    <tr>\n",
       "      <th>1404178</th>\n",
       "      <td>999999</td>\n",
       "      <td>212906</td>\n",
       "      <td>1</td>\n",
       "    </tr>\n",
       "  </tbody>\n",
       "</table>\n",
       "<p>1404179 rows × 3 columns</p>\n",
       "</div>"
      ],
      "text/plain": [
       "        visitorid                       itemid number of views\n",
       "0               0          67045,285930,357564           1,1,1\n",
       "1               1                        72028               1\n",
       "2              10                       248766               1\n",
       "3             100                        36054               4\n",
       "4            1000                       248975               1\n",
       "...           ...                          ...             ...\n",
       "1404174    999995                       109661               1\n",
       "1404175    999996    28219,51259,182000,371008         1,2,2,1\n",
       "1404176    999997                       196715               1\n",
       "1404177    999998  185989,226373,340010,455860         1,2,1,1\n",
       "1404178    999999                       212906               1\n",
       "\n",
       "[1404179 rows x 3 columns]"
      ]
     },
     "execution_count": 13,
     "metadata": {},
     "output_type": "execute_result"
    }
   ],
   "source": [
    "itemandviews_grouped"
   ]
  },
  {
   "cell_type": "code",
   "execution_count": 14,
   "metadata": {},
   "outputs": [],
   "source": [
    "itemandviews_grouped['lenght'] = itemandviews_grouped['number of views'].str.len()"
   ]
  },
  {
   "cell_type": "code",
   "execution_count": 15,
   "metadata": {},
   "outputs": [],
   "source": [
    "itemandviews_grouped=itemandviews_grouped[itemandviews_grouped.lenght>1]"
   ]
  },
  {
   "cell_type": "code",
   "execution_count": 16,
   "metadata": {},
   "outputs": [
    {
     "data": {
      "text/html": [
       "<div>\n",
       "<style scoped>\n",
       "    .dataframe tbody tr th:only-of-type {\n",
       "        vertical-align: middle;\n",
       "    }\n",
       "\n",
       "    .dataframe tbody tr th {\n",
       "        vertical-align: top;\n",
       "    }\n",
       "\n",
       "    .dataframe thead th {\n",
       "        text-align: right;\n",
       "    }\n",
       "</style>\n",
       "<table border=\"1\" class=\"dataframe\">\n",
       "  <thead>\n",
       "    <tr style=\"text-align: right;\">\n",
       "      <th></th>\n",
       "      <th>visitorid</th>\n",
       "      <th>itemid</th>\n",
       "      <th>number of views</th>\n",
       "      <th>lenght</th>\n",
       "    </tr>\n",
       "  </thead>\n",
       "  <tbody>\n",
       "    <tr>\n",
       "      <th>0</th>\n",
       "      <td>0</td>\n",
       "      <td>67045,285930,357564</td>\n",
       "      <td>1,1,1</td>\n",
       "      <td>5</td>\n",
       "    </tr>\n",
       "    <tr>\n",
       "      <th>5</th>\n",
       "      <td>10000</td>\n",
       "      <td>359491,401285</td>\n",
       "      <td>4,3</td>\n",
       "      <td>3</td>\n",
       "    </tr>\n",
       "    <tr>\n",
       "      <th>8</th>\n",
       "      <td>1000001</td>\n",
       "      <td>67707,141264,202293,230432,424515</td>\n",
       "      <td>1,1,1,1,1</td>\n",
       "      <td>9</td>\n",
       "    </tr>\n",
       "    <tr>\n",
       "      <th>10</th>\n",
       "      <td>1000003</td>\n",
       "      <td>150875,228932</td>\n",
       "      <td>1,1</td>\n",
       "      <td>3</td>\n",
       "    </tr>\n",
       "    <tr>\n",
       "      <th>26</th>\n",
       "      <td>1000018</td>\n",
       "      <td>19366,256393,278214</td>\n",
       "      <td>1,1,1</td>\n",
       "      <td>5</td>\n",
       "    </tr>\n",
       "    <tr>\n",
       "      <th>...</th>\n",
       "      <td>...</td>\n",
       "      <td>...</td>\n",
       "      <td>...</td>\n",
       "      <td>...</td>\n",
       "    </tr>\n",
       "    <tr>\n",
       "      <th>1404164</th>\n",
       "      <td>999986</td>\n",
       "      <td>269229,315140</td>\n",
       "      <td>1,3</td>\n",
       "      <td>3</td>\n",
       "    </tr>\n",
       "    <tr>\n",
       "      <th>1404169</th>\n",
       "      <td>999990</td>\n",
       "      <td>41968,317016</td>\n",
       "      <td>1,1</td>\n",
       "      <td>3</td>\n",
       "    </tr>\n",
       "    <tr>\n",
       "      <th>1404170</th>\n",
       "      <td>999991</td>\n",
       "      <td>163350,271890,298056</td>\n",
       "      <td>1,1,2</td>\n",
       "      <td>5</td>\n",
       "    </tr>\n",
       "    <tr>\n",
       "      <th>1404175</th>\n",
       "      <td>999996</td>\n",
       "      <td>28219,51259,182000,371008</td>\n",
       "      <td>1,2,2,1</td>\n",
       "      <td>7</td>\n",
       "    </tr>\n",
       "    <tr>\n",
       "      <th>1404177</th>\n",
       "      <td>999998</td>\n",
       "      <td>185989,226373,340010,455860</td>\n",
       "      <td>1,2,1,1</td>\n",
       "      <td>7</td>\n",
       "    </tr>\n",
       "  </tbody>\n",
       "</table>\n",
       "<p>277698 rows × 4 columns</p>\n",
       "</div>"
      ],
      "text/plain": [
       "        visitorid                             itemid number of views  lenght\n",
       "0               0                67045,285930,357564           1,1,1       5\n",
       "5           10000                      359491,401285             4,3       3\n",
       "8         1000001  67707,141264,202293,230432,424515       1,1,1,1,1       9\n",
       "10        1000003                      150875,228932             1,1       3\n",
       "26        1000018                19366,256393,278214           1,1,1       5\n",
       "...           ...                                ...             ...     ...\n",
       "1404164    999986                      269229,315140             1,3       3\n",
       "1404169    999990                       41968,317016             1,1       3\n",
       "1404170    999991               163350,271890,298056           1,1,2       5\n",
       "1404175    999996          28219,51259,182000,371008         1,2,2,1       7\n",
       "1404177    999998        185989,226373,340010,455860         1,2,1,1       7\n",
       "\n",
       "[277698 rows x 4 columns]"
      ]
     },
     "execution_count": 16,
     "metadata": {},
     "output_type": "execute_result"
    }
   ],
   "source": [
    "itemandviews_grouped[itemandviews_grouped['number of views'].str.count(\",\").add(1).lt(10)] "
   ]
  },
  {
   "cell_type": "code",
   "execution_count": 17,
   "metadata": {},
   "outputs": [],
   "source": [
    "itemandviews_grouped=itemandviews_grouped[itemandviews_grouped[\"lenght\"]>10]"
   ]
  },
  {
   "cell_type": "code",
   "execution_count": 18,
   "metadata": {},
   "outputs": [
    {
     "data": {
      "text/html": [
       "<div>\n",
       "<style scoped>\n",
       "    .dataframe tbody tr th:only-of-type {\n",
       "        vertical-align: middle;\n",
       "    }\n",
       "\n",
       "    .dataframe tbody tr th {\n",
       "        vertical-align: top;\n",
       "    }\n",
       "\n",
       "    .dataframe thead th {\n",
       "        text-align: right;\n",
       "    }\n",
       "</style>\n",
       "<table border=\"1\" class=\"dataframe\">\n",
       "  <thead>\n",
       "    <tr style=\"text-align: right;\">\n",
       "      <th></th>\n",
       "      <th>visitorid</th>\n",
       "      <th>itemid</th>\n",
       "      <th>number of views</th>\n",
       "      <th>lenght</th>\n",
       "    </tr>\n",
       "  </thead>\n",
       "  <tbody>\n",
       "    <tr>\n",
       "      <th>109</th>\n",
       "      <td>1000093</td>\n",
       "      <td>119825,172313,192353,199101,286219,304028,346501</td>\n",
       "      <td>1,1,2,5,1,1,3</td>\n",
       "      <td>13</td>\n",
       "    </tr>\n",
       "    <tr>\n",
       "      <th>169</th>\n",
       "      <td>1000147</td>\n",
       "      <td>64253,126126,312899,373472,421062,427744,441901</td>\n",
       "      <td>3,1,1,1,1,3,1</td>\n",
       "      <td>13</td>\n",
       "    </tr>\n",
       "    <tr>\n",
       "      <th>187</th>\n",
       "      <td>1000163</td>\n",
       "      <td>20710,37184,136119,223277,358854,418941,440220</td>\n",
       "      <td>3,1,1,1,1,1,1</td>\n",
       "      <td>13</td>\n",
       "    </tr>\n",
       "    <tr>\n",
       "      <th>195</th>\n",
       "      <td>1000170</td>\n",
       "      <td>134053,217869,218296,253256,273417,277105,3362...</td>\n",
       "      <td>1,1,1,1,1,1,1,1</td>\n",
       "      <td>15</td>\n",
       "    </tr>\n",
       "    <tr>\n",
       "      <th>229</th>\n",
       "      <td>1000200</td>\n",
       "      <td>48179,53206,283624,391014,393338,404406</td>\n",
       "      <td>1,2,1,1,1,2</td>\n",
       "      <td>11</td>\n",
       "    </tr>\n",
       "    <tr>\n",
       "      <th>...</th>\n",
       "      <td>...</td>\n",
       "      <td>...</td>\n",
       "      <td>...</td>\n",
       "      <td>...</td>\n",
       "    </tr>\n",
       "    <tr>\n",
       "      <th>1404035</th>\n",
       "      <td>999869</td>\n",
       "      <td>47779,65391,172048,174724,300433,306816,390465</td>\n",
       "      <td>1,1,1,1,1,2,1</td>\n",
       "      <td>13</td>\n",
       "    </tr>\n",
       "    <tr>\n",
       "      <th>1404045</th>\n",
       "      <td>999878</td>\n",
       "      <td>25091,36127,98052,135986,165677,170857,171571,...</td>\n",
       "      <td>2,1,1,1,1,1,1,2,1,1,2,1,1,1,1,1</td>\n",
       "      <td>31</td>\n",
       "    </tr>\n",
       "    <tr>\n",
       "      <th>1404120</th>\n",
       "      <td>999945</td>\n",
       "      <td>3764,25800,47509,71798,119547,205201,290204,31...</td>\n",
       "      <td>1,1,1,1,1,1,1,1,1,1,1,1,1,1,1,1</td>\n",
       "      <td>31</td>\n",
       "    </tr>\n",
       "    <tr>\n",
       "      <th>1404126</th>\n",
       "      <td>999951</td>\n",
       "      <td>2396,9747,76569,82687,95412,351138</td>\n",
       "      <td>1,1,1,1,2,2</td>\n",
       "      <td>11</td>\n",
       "    </tr>\n",
       "    <tr>\n",
       "      <th>1404146</th>\n",
       "      <td>99997</td>\n",
       "      <td>94402,301147,369194,376911,392302,395845</td>\n",
       "      <td>1,1,1,1,1,1</td>\n",
       "      <td>11</td>\n",
       "    </tr>\n",
       "  </tbody>\n",
       "</table>\n",
       "<p>26492 rows × 4 columns</p>\n",
       "</div>"
      ],
      "text/plain": [
       "        visitorid                                             itemid  \\\n",
       "109       1000093   119825,172313,192353,199101,286219,304028,346501   \n",
       "169       1000147    64253,126126,312899,373472,421062,427744,441901   \n",
       "187       1000163     20710,37184,136119,223277,358854,418941,440220   \n",
       "195       1000170  134053,217869,218296,253256,273417,277105,3362...   \n",
       "229       1000200            48179,53206,283624,391014,393338,404406   \n",
       "...           ...                                                ...   \n",
       "1404035    999869     47779,65391,172048,174724,300433,306816,390465   \n",
       "1404045    999878  25091,36127,98052,135986,165677,170857,171571,...   \n",
       "1404120    999945  3764,25800,47509,71798,119547,205201,290204,31...   \n",
       "1404126    999951                 2396,9747,76569,82687,95412,351138   \n",
       "1404146     99997           94402,301147,369194,376911,392302,395845   \n",
       "\n",
       "                         number of views  lenght  \n",
       "109                        1,1,2,5,1,1,3      13  \n",
       "169                        3,1,1,1,1,3,1      13  \n",
       "187                        3,1,1,1,1,1,1      13  \n",
       "195                      1,1,1,1,1,1,1,1      15  \n",
       "229                          1,2,1,1,1,2      11  \n",
       "...                                  ...     ...  \n",
       "1404035                    1,1,1,1,1,2,1      13  \n",
       "1404045  2,1,1,1,1,1,1,2,1,1,2,1,1,1,1,1      31  \n",
       "1404120  1,1,1,1,1,1,1,1,1,1,1,1,1,1,1,1      31  \n",
       "1404126                      1,1,1,1,2,2      11  \n",
       "1404146                      1,1,1,1,1,1      11  \n",
       "\n",
       "[26492 rows x 4 columns]"
      ]
     },
     "execution_count": 18,
     "metadata": {},
     "output_type": "execute_result"
    }
   ],
   "source": [
    "itemandviews_grouped"
   ]
  },
  {
   "cell_type": "code",
   "execution_count": 19,
   "metadata": {
    "execution": {
     "iopub.execute_input": "2022-04-04T19:09:52.995934Z",
     "iopub.status.busy": "2022-04-04T19:09:52.995675Z",
     "iopub.status.idle": "2022-04-04T19:09:53.002566Z",
     "shell.execute_reply": "2022-04-04T19:09:53.001924Z",
     "shell.execute_reply.started": "2022-04-04T19:09:52.995896Z"
    }
   },
   "outputs": [],
   "source": [
    "itemandviews_grouped=itemandviews_grouped[:10000]"
   ]
  },
  {
   "cell_type": "code",
   "execution_count": 20,
   "metadata": {
    "execution": {
     "iopub.execute_input": "2022-04-04T19:09:53.004386Z",
     "iopub.status.busy": "2022-04-04T19:09:53.00393Z",
     "iopub.status.idle": "2022-04-04T19:09:53.012195Z",
     "shell.execute_reply": "2022-04-04T19:09:53.011512Z",
     "shell.execute_reply.started": "2022-04-04T19:09:53.00434Z"
    }
   },
   "outputs": [],
   "source": [
    "num_words = 1000000\n",
    "oov_token = '<UNK>'\n",
    "pad_type = 'pre'\n",
    "trunc_type = 'pre'"
   ]
  },
  {
   "cell_type": "markdown",
   "metadata": {},
   "source": [
    "### tokenizing the items"
   ]
  },
  {
   "cell_type": "code",
   "execution_count": 21,
   "metadata": {
    "execution": {
     "iopub.execute_input": "2022-04-04T19:09:53.015848Z",
     "iopub.status.busy": "2022-04-04T19:09:53.013103Z",
     "iopub.status.idle": "2022-04-04T19:09:53.377098Z",
     "shell.execute_reply": "2022-04-04T19:09:53.376352Z",
     "shell.execute_reply.started": "2022-04-04T19:09:53.015816Z"
    }
   },
   "outputs": [],
   "source": [
    "tokenizer_items = Tokenizer(num_words=num_words, oov_token=oov_token)\n",
    "tokenizer_items.fit_on_texts(itemandviews_grouped['itemid'])"
   ]
  },
  {
   "cell_type": "code",
   "execution_count": 22,
   "metadata": {
    "execution": {
     "iopub.execute_input": "2022-04-04T19:09:53.415551Z",
     "iopub.status.busy": "2022-04-04T19:09:53.415111Z",
     "iopub.status.idle": "2022-04-04T19:09:53.422282Z",
     "shell.execute_reply": "2022-04-04T19:09:53.421579Z",
     "shell.execute_reply.started": "2022-04-04T19:09:53.415515Z"
    }
   },
   "outputs": [
    {
     "data": {
      "text/plain": [
       "50113"
      ]
     },
     "execution_count": 22,
     "metadata": {},
     "output_type": "execute_result"
    }
   ],
   "source": [
    "len(tokenizer_items.word_index)"
   ]
  },
  {
   "cell_type": "code",
   "execution_count": 23,
   "metadata": {
    "execution": {
     "iopub.execute_input": "2022-04-04T19:09:53.423934Z",
     "iopub.status.busy": "2022-04-04T19:09:53.423488Z",
     "iopub.status.idle": "2022-04-04T19:09:53.731756Z",
     "shell.execute_reply": "2022-04-04T19:09:53.731Z",
     "shell.execute_reply.started": "2022-04-04T19:09:53.423898Z"
    }
   },
   "outputs": [],
   "source": [
    "items = tokenizer_items.texts_to_sequences(itemandviews_grouped['itemid'])"
   ]
  },
  {
   "cell_type": "code",
   "execution_count": 24,
   "metadata": {},
   "outputs": [
    {
     "data": {
      "text/plain": [
       "10000"
      ]
     },
     "execution_count": 24,
     "metadata": {},
     "output_type": "execute_result"
    }
   ],
   "source": [
    "len(items)"
   ]
  },
  {
   "cell_type": "markdown",
   "metadata": {},
   "source": [
    "### adding sequences that have 5 items or more"
   ]
  },
  {
   "cell_type": "code",
   "execution_count": 25,
   "metadata": {
    "execution": {
     "iopub.execute_input": "2022-04-04T19:09:53.73337Z",
     "iopub.status.busy": "2022-04-04T19:09:53.733124Z",
     "iopub.status.idle": "2022-04-04T19:09:53.739122Z",
     "shell.execute_reply": "2022-04-04T19:09:53.738471Z",
     "shell.execute_reply.started": "2022-04-04T19:09:53.733338Z"
    }
   },
   "outputs": [],
   "source": [
    "li=[x for x in items if len(x)>=5]"
   ]
  },
  {
   "cell_type": "markdown",
   "metadata": {},
   "source": [
    "### the model takes the frist 5 items as input (x)"
   ]
  },
  {
   "cell_type": "code",
   "execution_count": 26,
   "metadata": {
    "execution": {
     "iopub.execute_input": "2022-04-04T19:09:53.740761Z",
     "iopub.status.busy": "2022-04-04T19:09:53.74031Z",
     "iopub.status.idle": "2022-04-04T19:09:53.749664Z",
     "shell.execute_reply": "2022-04-04T19:09:53.748851Z",
     "shell.execute_reply.started": "2022-04-04T19:09:53.740725Z"
    }
   },
   "outputs": [
    {
     "data": {
      "text/plain": [
       "[22838, 22839, 22840, 9385, 22841]"
      ]
     },
     "execution_count": 26,
     "metadata": {},
     "output_type": "execute_result"
    }
   ],
   "source": [
    "li[0][:-2]"
   ]
  },
  {
   "cell_type": "markdown",
   "metadata": {},
   "source": [
    "### and last 5 items as output (y)"
   ]
  },
  {
   "cell_type": "code",
   "execution_count": 27,
   "metadata": {
    "execution": {
     "iopub.execute_input": "2022-04-04T19:09:53.751469Z",
     "iopub.status.busy": "2022-04-04T19:09:53.751172Z",
     "iopub.status.idle": "2022-04-04T19:09:53.758607Z",
     "shell.execute_reply": "2022-04-04T19:09:53.757944Z",
     "shell.execute_reply.started": "2022-04-04T19:09:53.751437Z"
    }
   },
   "outputs": [
    {
     "data": {
      "text/plain": [
       "[22839, 22840, 9385, 22841, 13960]"
      ]
     },
     "execution_count": 27,
     "metadata": {},
     "output_type": "execute_result"
    }
   ],
   "source": [
    "li[0][1:-1]"
   ]
  },
  {
   "cell_type": "code",
   "execution_count": 28,
   "metadata": {
    "execution": {
     "iopub.execute_input": "2022-04-04T19:09:53.760232Z",
     "iopub.status.busy": "2022-04-04T19:09:53.759806Z",
     "iopub.status.idle": "2022-04-04T19:09:53.767711Z",
     "shell.execute_reply": "2022-04-04T19:09:53.766894Z",
     "shell.execute_reply.started": "2022-04-04T19:09:53.760199Z"
    }
   },
   "outputs": [
    {
     "data": {
      "text/plain": [
       "9999"
      ]
     },
     "execution_count": 28,
     "metadata": {},
     "output_type": "execute_result"
    }
   ],
   "source": [
    "len(li)"
   ]
  },
  {
   "cell_type": "markdown",
   "metadata": {},
   "source": [
    "### training on 7999 sample and last 2000 samples for testing"
   ]
  },
  {
   "cell_type": "code",
   "execution_count": 29,
   "metadata": {
    "execution": {
     "iopub.execute_input": "2022-04-04T19:09:53.769447Z",
     "iopub.status.busy": "2022-04-04T19:09:53.768997Z",
     "iopub.status.idle": "2022-04-04T19:09:53.785561Z",
     "shell.execute_reply": "2022-04-04T19:09:53.784869Z",
     "shell.execute_reply.started": "2022-04-04T19:09:53.769411Z"
    }
   },
   "outputs": [],
   "source": [
    "train_items_feature=[]\n",
    "for i in range(len(li)-2000):\n",
    "    train_items_feature.append(li[i][:][:-2])"
   ]
  },
  {
   "cell_type": "code",
   "execution_count": 30,
   "metadata": {
    "execution": {
     "iopub.execute_input": "2022-04-04T19:09:53.792803Z",
     "iopub.status.busy": "2022-04-04T19:09:53.792401Z",
     "iopub.status.idle": "2022-04-04T19:09:53.808365Z",
     "shell.execute_reply": "2022-04-04T19:09:53.807702Z",
     "shell.execute_reply.started": "2022-04-04T19:09:53.792776Z"
    }
   },
   "outputs": [],
   "source": [
    "train_items_target=[]\n",
    "for i in range(len(li)-2000):\n",
    "    train_items_target.append(li[i][:][1:-1])"
   ]
  },
  {
   "cell_type": "code",
   "execution_count": 31,
   "metadata": {},
   "outputs": [],
   "source": [
    "test_items_feature=[]\n",
    "for i in range(len(li)-2000,len(li)):\n",
    "    test_items_feature.append(li[i][:][:-2])"
   ]
  },
  {
   "cell_type": "code",
   "execution_count": 32,
   "metadata": {},
   "outputs": [],
   "source": [
    "test_items_target=[]\n",
    "for i in range(len(li)-2000,len(li)):\n",
    "    test_items_target.append(li[i][:][1:-1])"
   ]
  },
  {
   "cell_type": "markdown",
   "metadata": {},
   "source": [
    "### tokenizing the views"
   ]
  },
  {
   "cell_type": "code",
   "execution_count": 33,
   "metadata": {
    "execution": {
     "iopub.execute_input": "2022-04-04T19:09:53.84457Z",
     "iopub.status.busy": "2022-04-04T19:09:53.844321Z",
     "iopub.status.idle": "2022-04-04T19:09:53.850455Z",
     "shell.execute_reply": "2022-04-04T19:09:53.849691Z",
     "shell.execute_reply.started": "2022-04-04T19:09:53.844537Z"
    }
   },
   "outputs": [],
   "source": [
    "tokenizer_views = Tokenizer(num_words=num_words, oov_token=oov_token)"
   ]
  },
  {
   "cell_type": "code",
   "execution_count": 34,
   "metadata": {
    "execution": {
     "iopub.execute_input": "2022-04-04T19:09:53.852129Z",
     "iopub.status.busy": "2022-04-04T19:09:53.851839Z",
     "iopub.status.idle": "2022-04-04T19:09:54.0196Z",
     "shell.execute_reply": "2022-04-04T19:09:54.018853Z",
     "shell.execute_reply.started": "2022-04-04T19:09:53.852061Z"
    }
   },
   "outputs": [],
   "source": [
    "tokenizer_views.fit_on_texts(itemandviews_grouped['number of views'])"
   ]
  },
  {
   "cell_type": "code",
   "execution_count": 35,
   "metadata": {
    "execution": {
     "iopub.execute_input": "2022-04-04T19:09:54.021044Z",
     "iopub.status.busy": "2022-04-04T19:09:54.020794Z",
     "iopub.status.idle": "2022-04-04T19:09:54.028117Z",
     "shell.execute_reply": "2022-04-04T19:09:54.026522Z",
     "shell.execute_reply.started": "2022-04-04T19:09:54.021011Z"
    }
   },
   "outputs": [
    {
     "data": {
      "text/plain": [
       "60"
      ]
     },
     "execution_count": 35,
     "metadata": {},
     "output_type": "execute_result"
    }
   ],
   "source": [
    "len(tokenizer_views.word_index)"
   ]
  },
  {
   "cell_type": "code",
   "execution_count": 36,
   "metadata": {
    "execution": {
     "iopub.execute_input": "2022-04-04T19:09:54.030656Z",
     "iopub.status.busy": "2022-04-04T19:09:54.029948Z",
     "iopub.status.idle": "2022-04-04T19:09:54.213553Z",
     "shell.execute_reply": "2022-04-04T19:09:54.212854Z",
     "shell.execute_reply.started": "2022-04-04T19:09:54.030603Z"
    }
   },
   "outputs": [],
   "source": [
    "number_views = tokenizer_views.texts_to_sequences(itemandviews_grouped['number of views'])"
   ]
  },
  {
   "cell_type": "code",
   "execution_count": 37,
   "metadata": {
    "execution": {
     "iopub.execute_input": "2022-04-04T19:09:54.215114Z",
     "iopub.status.busy": "2022-04-04T19:09:54.21488Z",
     "iopub.status.idle": "2022-04-04T19:09:54.222391Z",
     "shell.execute_reply": "2022-04-04T19:09:54.221664Z",
     "shell.execute_reply.started": "2022-04-04T19:09:54.215081Z"
    }
   },
   "outputs": [],
   "source": [
    "views=[x for x in number_views if len(x)>=5]"
   ]
  },
  {
   "cell_type": "code",
   "execution_count": 38,
   "metadata": {
    "execution": {
     "iopub.execute_input": "2022-04-04T19:09:54.224137Z",
     "iopub.status.busy": "2022-04-04T19:09:54.223884Z",
     "iopub.status.idle": "2022-04-04T19:09:54.23089Z",
     "shell.execute_reply": "2022-04-04T19:09:54.23019Z",
     "shell.execute_reply.started": "2022-04-04T19:09:54.224105Z"
    }
   },
   "outputs": [
    {
     "data": {
      "text/plain": [
       "9999"
      ]
     },
     "execution_count": 38,
     "metadata": {},
     "output_type": "execute_result"
    }
   ],
   "source": [
    "len(views)"
   ]
  },
  {
   "cell_type": "code",
   "execution_count": 39,
   "metadata": {
    "execution": {
     "iopub.execute_input": "2022-04-04T19:09:54.233059Z",
     "iopub.status.busy": "2022-04-04T19:09:54.232458Z",
     "iopub.status.idle": "2022-04-04T19:09:54.247027Z",
     "shell.execute_reply": "2022-04-04T19:09:54.246059Z",
     "shell.execute_reply.started": "2022-04-04T19:09:54.233022Z"
    }
   },
   "outputs": [],
   "source": [
    "train_number_views=[]\n",
    "for i in range(len(views)-2000):\n",
    "    train_number_views.append(views[i][:][:-2])"
   ]
  },
  {
   "cell_type": "code",
   "execution_count": 40,
   "metadata": {},
   "outputs": [],
   "source": [
    "test_number_views=[]\n",
    "for i in range(len(views)-2000,len(views)):\n",
    "    test_number_views.append(views[i][:][:-2])"
   ]
  },
  {
   "cell_type": "markdown",
   "metadata": {},
   "source": [
    "### padding the sequences to  maxlen"
   ]
  },
  {
   "cell_type": "code",
   "execution_count": 41,
   "metadata": {
    "execution": {
     "iopub.execute_input": "2022-04-04T19:09:54.277169Z",
     "iopub.status.busy": "2022-04-04T19:09:54.276854Z",
     "iopub.status.idle": "2022-04-04T19:09:54.342507Z",
     "shell.execute_reply": "2022-04-04T19:09:54.341895Z",
     "shell.execute_reply.started": "2022-04-04T19:09:54.277134Z"
    }
   },
   "outputs": [],
   "source": [
    "train_number_views = pad_sequences(train_number_views, padding=pad_type, truncating=trunc_type, maxlen=5)"
   ]
  },
  {
   "cell_type": "code",
   "execution_count": 42,
   "metadata": {
    "execution": {
     "iopub.execute_input": "2022-04-04T19:09:54.353333Z",
     "iopub.status.busy": "2022-04-04T19:09:54.352796Z",
     "iopub.status.idle": "2022-04-04T19:09:54.441932Z",
     "shell.execute_reply": "2022-04-04T19:09:54.44129Z",
     "shell.execute_reply.started": "2022-04-04T19:09:54.353295Z"
    }
   },
   "outputs": [],
   "source": [
    "train_items_feature=pad_sequences(train_items_feature, padding=pad_type, truncating=trunc_type, maxlen=5)"
   ]
  },
  {
   "cell_type": "code",
   "execution_count": 43,
   "metadata": {
    "execution": {
     "iopub.execute_input": "2022-04-04T19:09:54.45196Z",
     "iopub.status.busy": "2022-04-04T19:09:54.451683Z",
     "iopub.status.idle": "2022-04-04T19:09:54.50991Z",
     "shell.execute_reply": "2022-04-04T19:09:54.509313Z",
     "shell.execute_reply.started": "2022-04-04T19:09:54.451926Z"
    }
   },
   "outputs": [],
   "source": [
    "train_items_target=pad_sequences(train_items_target, padding=pad_type, truncating=trunc_type, maxlen=5)"
   ]
  },
  {
   "cell_type": "code",
   "execution_count": 44,
   "metadata": {},
   "outputs": [],
   "source": [
    "test_number_views = pad_sequences(test_number_views, padding=pad_type, truncating=trunc_type, maxlen=5)"
   ]
  },
  {
   "cell_type": "code",
   "execution_count": 45,
   "metadata": {},
   "outputs": [],
   "source": [
    "test_items_feature=pad_sequences(test_items_feature, padding=pad_type, truncating=trunc_type, maxlen=5)"
   ]
  },
  {
   "cell_type": "code",
   "execution_count": 46,
   "metadata": {},
   "outputs": [],
   "source": [
    "test_items_target=pad_sequences(test_items_target, padding=pad_type, truncating=trunc_type, maxlen=5)"
   ]
  },
  {
   "cell_type": "code",
   "execution_count": 47,
   "metadata": {
    "execution": {
     "iopub.execute_input": "2022-04-04T19:09:54.539843Z",
     "iopub.status.busy": "2022-04-04T19:09:54.539423Z",
     "iopub.status.idle": "2022-04-04T19:09:56.952876Z",
     "shell.execute_reply": "2022-04-04T19:09:56.952164Z",
     "shell.execute_reply.started": "2022-04-04T19:09:54.539779Z"
    }
   },
   "outputs": [],
   "source": [
    "model=model(len(tokenizer_views.word_index),len(tokenizer_items.word_index),5)"
   ]
  },
  {
   "cell_type": "code",
   "execution_count": 48,
   "metadata": {
    "execution": {
     "iopub.execute_input": "2022-04-04T19:09:56.954551Z",
     "iopub.status.busy": "2022-04-04T19:09:56.954303Z",
     "iopub.status.idle": "2022-04-04T19:09:56.964791Z",
     "shell.execute_reply": "2022-04-04T19:09:56.964001Z",
     "shell.execute_reply.started": "2022-04-04T19:09:56.954516Z"
    }
   },
   "outputs": [
    {
     "name": "stdout",
     "output_type": "stream",
     "text": [
      "Model: \"model\"\n",
      "__________________________________________________________________________________________________\n",
      " Layer (type)                   Output Shape         Param #     Connected to                     \n",
      "==================================================================================================\n",
      " itemid (InputLayer)            [(None, 5)]          0           []                               \n",
      "                                                                                                  \n",
      " views (InputLayer)             [(None, 5)]          0           []                               \n",
      "                                                                                                  \n",
      " embedding (Embedding)          (None, 5, 100)       5011300     ['itemid[0][0]']                 \n",
      "                                                                                                  \n",
      " embedding_1 (Embedding)        (None, 5, 100)       6000        ['views[0][0]']                  \n",
      "                                                                                                  \n",
      " concat_embedding_input (Concat  (None, 5, 200)      0           ['embedding[0][0]',              \n",
      " enate)                                                           'embedding_1[0][0]']            \n",
      "                                                                                                  \n",
      " lstm (LSTM)                    (None, 5, 100)       120400      ['concat_embedding_input[0][0]'] \n",
      "                                                                                                  \n",
      " dense (Dense)                  (None, 5, 50113)     5061413     ['lstm[0][0]']                   \n",
      "                                                                                                  \n",
      "==================================================================================================\n",
      "Total params: 10,199,113\n",
      "Trainable params: 10,199,113\n",
      "Non-trainable params: 0\n",
      "__________________________________________________________________________________________________\n"
     ]
    }
   ],
   "source": [
    "model.summary()"
   ]
  },
  {
   "cell_type": "code",
   "execution_count": 49,
   "metadata": {
    "execution": {
     "iopub.execute_input": "2022-04-04T19:09:56.983318Z",
     "iopub.status.busy": "2022-04-04T19:09:56.982987Z",
     "iopub.status.idle": "2022-04-04T19:09:57.00247Z",
     "shell.execute_reply": "2022-04-04T19:09:57.001847Z",
     "shell.execute_reply.started": "2022-04-04T19:09:56.983286Z"
    }
   },
   "outputs": [],
   "source": [
    "train_feat_dict = {'itemid': train_items_feature,'views': train_number_views}\n",
    "train_target_tensor = train_items_target\n",
    "train_dataset, train_steps_per_epoch = create_train_tfdata(train_feat_dict,train_target_tensor,batch_size=512)"
   ]
  },
  {
   "cell_type": "markdown",
   "metadata": {},
   "source": [
    "### training the dataset"
   ]
  },
  {
   "cell_type": "code",
   "execution_count": 50,
   "metadata": {
    "execution": {
     "iopub.execute_input": "2022-04-04T19:09:57.009663Z",
     "iopub.status.busy": "2022-04-04T19:09:57.009166Z",
     "iopub.status.idle": "2022-04-04T19:10:14.47513Z",
     "shell.execute_reply": "2022-04-04T19:10:14.474442Z",
     "shell.execute_reply.started": "2022-04-04T19:09:57.009608Z"
    }
   },
   "outputs": [
    {
     "name": "stdout",
     "output_type": "stream",
     "text": [
      "Epoch 1/15\n",
      "15/15 [==============================] - 11s 626ms/step - loss: 10.8167\n",
      "Epoch 2/15\n",
      "15/15 [==============================] - 9s 621ms/step - loss: 9.0993\n",
      "Epoch 3/15\n",
      "15/15 [==============================] - 9s 610ms/step - loss: 8.0479\n",
      "Epoch 4/15\n",
      "15/15 [==============================] - 9s 612ms/step - loss: 6.7804\n",
      "Epoch 5/15\n",
      "15/15 [==============================] - 9s 611ms/step - loss: 5.2804\n",
      "Epoch 6/15\n",
      "15/15 [==============================] - 9s 609ms/step - loss: 3.7176\n",
      "Epoch 7/15\n",
      "15/15 [==============================] - 9s 606ms/step - loss: 2.3730\n",
      "Epoch 8/15\n",
      "15/15 [==============================] - 9s 607ms/step - loss: 1.3754\n",
      "Epoch 9/15\n",
      "15/15 [==============================] - 9s 609ms/step - loss: 0.7934\n",
      "Epoch 10/15\n",
      "15/15 [==============================] - 9s 606ms/step - loss: 0.4811\n",
      "Epoch 11/15\n",
      "15/15 [==============================] - 9s 603ms/step - loss: 0.3525\n",
      "Epoch 12/15\n",
      "15/15 [==============================] - 9s 613ms/step - loss: 0.2561\n",
      "Epoch 13/15\n",
      "15/15 [==============================] - 9s 622ms/step - loss: 0.2141\n",
      "Epoch 14/15\n",
      "15/15 [==============================] - 9s 619ms/step - loss: 0.1914\n",
      "Epoch 15/15\n",
      "15/15 [==============================] - 9s 621ms/step - loss: 0.1793\n"
     ]
    }
   ],
   "source": [
    "history = model.fit(train_dataset,steps_per_epoch=train_steps_per_epoch,epochs=15)"
   ]
  },
  {
   "cell_type": "code",
   "execution_count": 51,
   "metadata": {},
   "outputs": [],
   "source": [
    "y_pred=model.predict(x={'itemid':test_items_feature,'views':test_number_views})"
   ]
  },
  {
   "cell_type": "code",
   "execution_count": 52,
   "metadata": {},
   "outputs": [
    {
     "data": {
      "text/plain": [
       "0.0701"
      ]
     },
     "execution_count": 52,
     "metadata": {},
     "output_type": "execute_result"
    }
   ],
   "source": [
    "mapk(test_items_target, y_pred)"
   ]
  }
 ],
 "metadata": {
  "kernelspec": {
   "display_name": "Python 3",
   "language": "python",
   "name": "python3"
  },
  "language_info": {
   "codemirror_mode": {
    "name": "ipython",
    "version": 3
   },
   "file_extension": ".py",
   "mimetype": "text/x-python",
   "name": "python",
   "nbconvert_exporter": "python",
   "pygments_lexer": "ipython3",
   "version": "3.8.5"
  }
 },
 "nbformat": 4,
 "nbformat_minor": 4
}
